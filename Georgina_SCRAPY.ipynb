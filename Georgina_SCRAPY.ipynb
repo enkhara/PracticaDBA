{
  "nbformat": 4,
  "nbformat_minor": 0,
  "metadata": {
    "colab": {
      "name": "Georgina SCRAPY",
      "provenance": [],
      "collapsed_sections": [],
      "include_colab_link": true
    },
    "kernelspec": {
      "name": "python3",
      "display_name": "Python 3"
    }
  },
  "cells": [
    {
      "cell_type": "markdown",
      "metadata": {
        "id": "view-in-github",
        "colab_type": "text"
      },
      "source": [
        "<a href=\"https://colab.research.google.com/github/enkhara/PracticaDBA/blob/master/Georgina_SCRAPY.ipynb\" target=\"_parent\"><img src=\"https://colab.research.google.com/assets/colab-badge.svg\" alt=\"Open In Colab\"/></a>"
      ]
    },
    {
      "cell_type": "markdown",
      "metadata": {
        "id": "173c-bcUjcE4",
        "colab_type": "text"
      },
      "source": [
        "## NOTA: Crea una carpeta en tu drive llamada webcrawling para que te funcione la subida a drive sin modificar nombres de ficheros/carpetas"
      ]
    },
    {
      "cell_type": "markdown",
      "metadata": {
        "id": "Fsnh0LjlYg3g",
        "colab_type": "text"
      },
      "source": [
        "## Instalar scrapy"
      ]
    },
    {
      "cell_type": "code",
      "metadata": {
        "id": "K7iWVmA7ZwjU",
        "colab_type": "code",
        "outputId": "1a6799f1-badd-4e4b-e078-0f350b5e6f64",
        "colab": {
          "base_uri": "https://localhost:8080/",
          "height": 468
        }
      },
      "source": [
        "!pip install scrapy"
      ],
      "execution_count": 0,
      "outputs": [
        {
          "output_type": "stream",
          "text": [
            "Requirement already satisfied: scrapy in /usr/local/lib/python3.6/dist-packages (1.8.0)\n",
            "Requirement already satisfied: protego>=0.1.15 in /usr/local/lib/python3.6/dist-packages (from scrapy) (0.1.16)\n",
            "Requirement already satisfied: cryptography>=2.0 in /usr/local/lib/python3.6/dist-packages (from scrapy) (2.8)\n",
            "Requirement already satisfied: lxml>=3.5.0 in /usr/local/lib/python3.6/dist-packages (from scrapy) (4.2.6)\n",
            "Requirement already satisfied: cssselect>=0.9.1 in /usr/local/lib/python3.6/dist-packages (from scrapy) (1.1.0)\n",
            "Requirement already satisfied: parsel>=1.5.0 in /usr/local/lib/python3.6/dist-packages (from scrapy) (1.5.2)\n",
            "Requirement already satisfied: pyOpenSSL>=16.2.0 in /usr/local/lib/python3.6/dist-packages (from scrapy) (19.1.0)\n",
            "Requirement already satisfied: service-identity>=16.0.0 in /usr/local/lib/python3.6/dist-packages (from scrapy) (18.1.0)\n",
            "Requirement already satisfied: six>=1.10.0 in /usr/local/lib/python3.6/dist-packages (from scrapy) (1.12.0)\n",
            "Requirement already satisfied: Twisted>=17.9.0; python_version >= \"3.5\" in /usr/local/lib/python3.6/dist-packages (from scrapy) (19.10.0)\n",
            "Requirement already satisfied: PyDispatcher>=2.0.5 in /usr/local/lib/python3.6/dist-packages (from scrapy) (2.0.5)\n",
            "Requirement already satisfied: zope.interface>=4.1.3 in /usr/local/lib/python3.6/dist-packages (from scrapy) (4.7.1)\n",
            "Requirement already satisfied: w3lib>=1.17.0 in /usr/local/lib/python3.6/dist-packages (from scrapy) (1.21.0)\n",
            "Requirement already satisfied: queuelib>=1.4.2 in /usr/local/lib/python3.6/dist-packages (from scrapy) (1.5.0)\n",
            "Requirement already satisfied: cffi!=1.11.3,>=1.8 in /usr/local/lib/python3.6/dist-packages (from cryptography>=2.0->scrapy) (1.13.2)\n",
            "Requirement already satisfied: pyasn1-modules in /usr/local/lib/python3.6/dist-packages (from service-identity>=16.0.0->scrapy) (0.2.7)\n",
            "Requirement already satisfied: attrs>=16.0.0 in /usr/local/lib/python3.6/dist-packages (from service-identity>=16.0.0->scrapy) (19.3.0)\n",
            "Requirement already satisfied: pyasn1 in /usr/local/lib/python3.6/dist-packages (from service-identity>=16.0.0->scrapy) (0.4.8)\n",
            "Requirement already satisfied: hyperlink>=17.1.1 in /usr/local/lib/python3.6/dist-packages (from Twisted>=17.9.0; python_version >= \"3.5\"->scrapy) (19.0.0)\n",
            "Requirement already satisfied: incremental>=16.10.1 in /usr/local/lib/python3.6/dist-packages (from Twisted>=17.9.0; python_version >= \"3.5\"->scrapy) (17.5.0)\n",
            "Requirement already satisfied: constantly>=15.1 in /usr/local/lib/python3.6/dist-packages (from Twisted>=17.9.0; python_version >= \"3.5\"->scrapy) (15.1.0)\n",
            "Requirement already satisfied: Automat>=0.3.0 in /usr/local/lib/python3.6/dist-packages (from Twisted>=17.9.0; python_version >= \"3.5\"->scrapy) (0.8.0)\n",
            "Requirement already satisfied: PyHamcrest>=1.9.0 in /usr/local/lib/python3.6/dist-packages (from Twisted>=17.9.0; python_version >= \"3.5\"->scrapy) (2.0.0)\n",
            "Requirement already satisfied: setuptools in /usr/local/lib/python3.6/dist-packages (from zope.interface>=4.1.3->scrapy) (42.0.2)\n",
            "Requirement already satisfied: pycparser in /usr/local/lib/python3.6/dist-packages (from cffi!=1.11.3,>=1.8->cryptography>=2.0->scrapy) (2.19)\n",
            "Requirement already satisfied: idna>=2.5 in /usr/local/lib/python3.6/dist-packages (from hyperlink>=17.1.1->Twisted>=17.9.0; python_version >= \"3.5\"->scrapy) (2.8)\n"
          ],
          "name": "stdout"
        }
      ]
    },
    {
      "cell_type": "markdown",
      "metadata": {
        "id": "fuKDX55fm6MY",
        "colab_type": "text"
      },
      "source": [
        "## Linkear Google Drive"
      ]
    },
    {
      "cell_type": "code",
      "metadata": {
        "id": "9-dq0KEjm5I4",
        "colab_type": "code",
        "outputId": "c2187be5-56c6-4914-ac5a-ede500fbd415",
        "colab": {
          "base_uri": "https://localhost:8080/",
          "height": 35
        }
      },
      "source": [
        "from google.colab import drive\n",
        "drive.mount('/content/drive')"
      ],
      "execution_count": 0,
      "outputs": [
        {
          "output_type": "stream",
          "text": [
            "Drive already mounted at /content/drive; to attempt to forcibly remount, call drive.mount(\"/content/drive\", force_remount=True).\n"
          ],
          "name": "stdout"
        }
      ]
    },
    {
      "cell_type": "markdown",
      "metadata": {
        "id": "6ljMmopXYlLr",
        "colab_type": "text"
      },
      "source": [
        "## Montar Spider Class"
      ]
    },
    {
      "cell_type": "code",
      "metadata": {
        "id": "xZXoTYPtHO6a",
        "colab_type": "code",
        "colab": {}
      },
      "source": [
        "import scrapy\n",
        "import json\n",
        "\n",
        "class BlogSpider(scrapy.Spider):\n",
        "    name = 'blogspider'\n",
        "    # Podeis cambiar la url inicial por otra u otras paginas\n",
        "    start_urls = ['https://www.barcelona.cat/ca/que-pots-fer-a-bcn/parcs-i-jardins/tots-els-parcs']\n",
        "    \n",
        "    # con esto limito no hacer mas de 10 ejecuciones \n",
        "    COUNT_MAX = 100\n",
        "    count = 0\n",
        "\n",
        "    def parse(self, response):\n",
        "        # Aqui scrapeamos los datos y los imprimimos a un fichero\n",
        "        for park in response.css('div#llistat-resultats div.box'):\n",
        "            park_name = park.css('h3 a ::text').extract_first().strip()\n",
        "            park_description = park.css('p.intro ::text').extract_first()\n",
        "            park_address = park.css('div.dades p strong ::text').extract_first()\n",
        "              \n",
        "            # Print a un fichero\n",
        "            print(f\"{park_name};{park_description};{park_address}\")#, file=filep)\n",
        "\n",
        "        # Aqui hacemos crawling (con el follow)\n",
        "        for next_page in response.css('div#mes-activitats a'):\n",
        "            self.count = self.count + 1\n",
        "            if (self.count < self.COUNT_MAX):\n",
        "                yield response.follow(next_page, self.parse)\n"
      ],
      "execution_count": 0,
      "outputs": []
    },
    {
      "cell_type": "markdown",
      "metadata": {
        "id": "Hq4352tpYyta",
        "colab_type": "text"
      },
      "source": [
        "## Ejecutar el Crawler + Scraper"
      ]
    },
    {
      "cell_type": "code",
      "metadata": {
        "id": "IriV_cmzYu3r",
        "colab_type": "code",
        "outputId": "80e9d278-379c-406c-8eb0-88894ac8d558",
        "colab": {
          "base_uri": "https://localhost:8080/",
          "height": 1000
        }
      },
      "source": [
        "# Podeis cambiar la extension y el nombre del fichero data.txt\n",
        "filep = open('/content/drive/My Drive/webcrawling/data.csv', 'w')\n",
        "\n",
        "from scrapy.crawler import CrawlerProcess\n",
        "\n",
        "process = CrawlerProcess({\n",
        "    'USER_AGENT': 'Mozilla/4.0 (compatible; MSIE 7.0; Windows NT 5.1)'\n",
        "})\n",
        "\n",
        "process.crawl(BlogSpider)\n",
        "process.start()\n",
        "filep.close()"
      ],
      "execution_count": 0,
      "outputs": [
        {
          "output_type": "stream",
          "text": [
            "2020-01-17 10:37:58 [scrapy.utils.log] INFO: Scrapy 1.8.0 started (bot: scrapybot)\n",
            "2020-01-17 10:37:58 [scrapy.utils.log] INFO: Versions: lxml 4.2.6.0, libxml2 2.9.8, cssselect 1.1.0, parsel 1.5.2, w3lib 1.21.0, Twisted 19.10.0, Python 3.6.9 (default, Nov  7 2019, 10:44:02) - [GCC 8.3.0], pyOpenSSL 19.1.0 (OpenSSL 1.1.1d  10 Sep 2019), cryptography 2.8, Platform Linux-4.19.80+-x86_64-with-Ubuntu-18.04-bionic\n",
            "2020-01-17 10:37:58 [scrapy.crawler] INFO: Overridden settings: {'USER_AGENT': 'Mozilla/4.0 (compatible; MSIE 7.0; Windows NT 5.1)'}\n",
            "2020-01-17 10:37:58 [scrapy.extensions.telnet] INFO: Telnet Password: 7d435617f2721ea5\n",
            "2020-01-17 10:37:58 [scrapy.middleware] INFO: Enabled extensions:\n",
            "['scrapy.extensions.corestats.CoreStats',\n",
            " 'scrapy.extensions.telnet.TelnetConsole',\n",
            " 'scrapy.extensions.memusage.MemoryUsage',\n",
            " 'scrapy.extensions.logstats.LogStats']\n",
            "2020-01-17 10:37:58 [scrapy.middleware] INFO: Enabled downloader middlewares:\n",
            "['scrapy.downloadermiddlewares.httpauth.HttpAuthMiddleware',\n",
            " 'scrapy.downloadermiddlewares.downloadtimeout.DownloadTimeoutMiddleware',\n",
            " 'scrapy.downloadermiddlewares.defaultheaders.DefaultHeadersMiddleware',\n",
            " 'scrapy.downloadermiddlewares.useragent.UserAgentMiddleware',\n",
            " 'scrapy.downloadermiddlewares.retry.RetryMiddleware',\n",
            " 'scrapy.downloadermiddlewares.redirect.MetaRefreshMiddleware',\n",
            " 'scrapy.downloadermiddlewares.httpcompression.HttpCompressionMiddleware',\n",
            " 'scrapy.downloadermiddlewares.redirect.RedirectMiddleware',\n",
            " 'scrapy.downloadermiddlewares.cookies.CookiesMiddleware',\n",
            " 'scrapy.downloadermiddlewares.httpproxy.HttpProxyMiddleware',\n",
            " 'scrapy.downloadermiddlewares.stats.DownloaderStats']\n",
            "2020-01-17 10:37:58 [scrapy.middleware] INFO: Enabled spider middlewares:\n",
            "['scrapy.spidermiddlewares.httperror.HttpErrorMiddleware',\n",
            " 'scrapy.spidermiddlewares.offsite.OffsiteMiddleware',\n",
            " 'scrapy.spidermiddlewares.referer.RefererMiddleware',\n",
            " 'scrapy.spidermiddlewares.urllength.UrlLengthMiddleware',\n",
            " 'scrapy.spidermiddlewares.depth.DepthMiddleware']\n",
            "2020-01-17 10:37:58 [scrapy.middleware] INFO: Enabled item pipelines:\n",
            "[]\n",
            "2020-01-17 10:37:58 [scrapy.core.engine] INFO: Spider opened\n",
            "2020-01-17 10:37:58 [scrapy.extensions.logstats] INFO: Crawled 0 pages (at 0 pages/min), scraped 0 items (at 0 items/min)\n",
            "2020-01-17 10:37:58 [scrapy.extensions.telnet] INFO: Telnet console listening on 127.0.0.1:6023\n",
            "2020-01-17 10:37:58 [scrapy.core.engine] DEBUG: Crawled (200) <GET https://www.barcelona.cat/ca/que-pots-fer-a-bcn/parcs-i-jardins/tots-els-parcs> (referer: None)\n",
            "2020-01-17 10:37:58 [scrapy.core.engine] DEBUG: Crawled (200) <GET https://www.barcelona.cat/ca/que-pots-fer-a-bcn/parcs-i-jardins/tots-els-parcs?pg=search&c=00620*&code0=0062001004&code1=0062002004020&code2=0062003004020002&wtarget=parcs-generic&sort=popularity,desc&nr=10&idma=ca> (referer: https://www.barcelona.cat/ca/que-pots-fer-a-bcn/parcs-i-jardins/tots-els-parcs)\n",
            "2020-01-17 10:37:58 [scrapy.dupefilters] DEBUG: Filtered duplicate request: <GET https://www.barcelona.cat/ca/que-pots-fer-a-bcn/parcs-i-jardins/tots-els-parcs?pg=search&c=00620*&code0=0062001004&code1=0062002004020&code2=0062003004020002&wtarget=parcs-generic&sort=popularity,desc&nr=10&idma=ca> - no more duplicates will be shown (see DUPEFILTER_DEBUG to show all duplicates)\n",
            "2020-01-17 10:37:58 [scrapy.core.engine] INFO: Closing spider (finished)\n",
            "2020-01-17 10:37:58 [scrapy.statscollectors] INFO: Dumping Scrapy stats:\n",
            "{'downloader/request_bytes': 793,\n",
            " 'downloader/request_count': 2,\n",
            " 'downloader/request_method_count/GET': 2,\n",
            " 'downloader/response_bytes': 24168,\n",
            " 'downloader/response_count': 2,\n",
            " 'downloader/response_status_count/200': 2,\n",
            " 'dupefilter/filtered': 1,\n",
            " 'elapsed_time_seconds': 0.355073,\n",
            " 'finish_reason': 'finished',\n",
            " 'finish_time': datetime.datetime(2020, 1, 17, 10, 37, 58, 979050),\n",
            " 'log_count/DEBUG': 3,\n",
            " 'log_count/INFO': 10,\n",
            " 'memusage/max': 179675136,\n",
            " 'memusage/startup': 179675136,\n",
            " 'request_depth_max': 2,\n",
            " 'response_received_count': 2,\n",
            " 'scheduler/dequeued': 2,\n",
            " 'scheduler/dequeued/memory': 2,\n",
            " 'scheduler/enqueued': 2,\n",
            " 'scheduler/enqueued/memory': 2,\n",
            " 'start_time': datetime.datetime(2020, 1, 17, 10, 37, 58, 623977)}\n",
            "2020-01-17 10:37:58 [scrapy.core.engine] INFO: Spider closed (finished)\n"
          ],
          "name": "stderr"
        },
        {
          "output_type": "stream",
          "text": [
            "Jardins de Portolà;Els Jardins de Portolà, com molts dels jardins residencials catalans, queden protegits per la casa a la part posterior.;C Portolà 5 (Sarrià-Sant Gervasi)\n",
            "El parc de Joan Reventós;Aquest espai verd neix de la urbanització del que es coneix popularment com a torrent de les Monges.;C Ràfols 10 (Sarrià-Sant Gervasi)\n",
            "Jardins de Rodrigo Caro;És un jardí temàtic especialitzat en vegetació de clima mediterrani dels cinc continents.;C Artesania 79 (Nou Barris)\n",
            "Parc del Centre del Poblenou;Són més de cinc hectàrees de verd on predomina la vegetació autòctona mediterrània.;Av Diagonal 130 (Sant Martí)\n",
            "Parc de la Primavera;És l'exemple de com la necessitat de crear un equipament per a la gestió de serveis urbans pot ser, alhora, un agradable espai verd.;C Nou de la Rambla 203 (Sants-Montjuïc)\n",
            "Jardins de la Vil·la Florida;Els jardins ocupen l’espai d’un mas històric. Jardí romàntic i afrancesat, per la disposició de la topiària amb les roses com a protagonistes.;C Muntaner 548 (Sarrià-Sant Gervasi)\n",
            "Viver Municipal de Plantes Tres Pins;Es troba al vessant nord-oest de la part alta de Montjuïc i és un espai verd poc corrent i d'una bellesa insospitada.;Av Miramar 2 (Sants-Montjuïc)\n",
            "Jardí dels Drets Humans;Els jardins suposen la recuperació d'un espai al voltant de l'illa Philips, per integrar-la a l'estructura urbana del barri de la Marina - Zona Franca.;C Foneria 19 (Sants-Montjuïc)\n",
            "El parc dels Auditoris;És un gran espai multifuncional amb auditoris a l'aire lliure, entre l'esplanada de l'edifici del Fòrum i el mar.;Pl Fòrum 1 (Sant Martí)\n",
            "Els jardins de Joan Brossa;El que durant més de 30 anys va ser el Parc d’Atraccions de Montjuïc, avui és un gran espai verd cobert d’una vegetació esponerosa i mediterrània.;Pl Dante 9999 (Sants-Montjuïc)\n",
            "Jardins de Portolà;Els Jardins de Portolà, com molts dels jardins residencials catalans, queden protegits per la casa a la part posterior.;C Portolà 5 (Sarrià-Sant Gervasi)\n",
            "El parc de Joan Reventós;Aquest espai verd neix de la urbanització del que es coneix popularment com a torrent de les Monges.;C Ràfols 10 (Sarrià-Sant Gervasi)\n",
            "Jardins de Rodrigo Caro;És un jardí temàtic especialitzat en vegetació de clima mediterrani dels cinc continents.;C Artesania 79 (Nou Barris)\n",
            "Parc del Centre del Poblenou;Són més de cinc hectàrees de verd on predomina la vegetació autòctona mediterrània.;Av Diagonal 130 (Sant Martí)\n",
            "Parc de la Primavera;És l'exemple de com la necessitat de crear un equipament per a la gestió de serveis urbans pot ser, alhora, un agradable espai verd.;C Nou de la Rambla 203 (Sants-Montjuïc)\n",
            "Jardins de la Vil·la Florida;Els jardins ocupen l’espai d’un mas històric. Jardí romàntic i afrancesat, per la disposició de la topiària amb les roses com a protagonistes.;C Muntaner 548 (Sarrià-Sant Gervasi)\n",
            "Viver Municipal de Plantes Tres Pins;Es troba al vessant nord-oest de la part alta de Montjuïc i és un espai verd poc corrent i d'una bellesa insospitada.;Av Miramar 2 (Sants-Montjuïc)\n",
            "Jardí dels Drets Humans;Els jardins suposen la recuperació d'un espai al voltant de l'illa Philips, per integrar-la a l'estructura urbana del barri de la Marina - Zona Franca.;C Foneria 19 (Sants-Montjuïc)\n",
            "El parc dels Auditoris;És un gran espai multifuncional amb auditoris a l'aire lliure, entre l'esplanada de l'edifici del Fòrum i el mar.;Pl Fòrum 1 (Sant Martí)\n",
            "Els jardins de Joan Brossa;El que durant més de 30 anys va ser el Parc d’Atraccions de Montjuïc, avui és un gran espai verd cobert d’una vegetació esponerosa i mediterrània.;Pl Dante 9999 (Sants-Montjuïc)\n"
          ],
          "name": "stdout"
        }
      ]
    },
    {
      "cell_type": "markdown",
      "metadata": {
        "id": "-ap-54yCYp3j",
        "colab_type": "text"
      },
      "source": [
        "## Descargar resultados"
      ]
    },
    {
      "cell_type": "code",
      "metadata": {
        "id": "zqyCtD32KMFY",
        "colab_type": "code",
        "colab": {}
      },
      "source": [
        "from google.colab import files\n",
        "files.download('/content/drive/My Drive/webcrawling/data.csv')"
      ],
      "execution_count": 0,
      "outputs": []
    },
    {
      "cell_type": "markdown",
      "metadata": {
        "id": "uEWA_LAwiAer",
        "colab_type": "text"
      },
      "source": [
        "## Enviar resultados a Google Cloud Storage"
      ]
    },
    {
      "cell_type": "code",
      "metadata": {
        "id": "WPSCbWuhiFwl",
        "colab_type": "code",
        "colab": {}
      },
      "source": [
        "# Necesitas saber el id de tu proyecto en la consola cloud de google (esta arriba a la izquierda)\n",
        "project_id = 'logical-lock-265215'"
      ],
      "execution_count": 0,
      "outputs": []
    },
    {
      "cell_type": "code",
      "metadata": {
        "id": "8_UYtwtFhgfY",
        "colab_type": "code",
        "colab": {}
      },
      "source": [
        "# Importa las librerias necesarias y autenticas con google cloud\n",
        "project_id = 'logical-lock-265215'\n",
        "\n",
        "from google.colab import auth\n",
        "auth.authenticate_user()"
      ],
      "execution_count": 0,
      "outputs": []
    },
    {
      "cell_type": "code",
      "metadata": {
        "id": "rE-t3f2Th1n_",
        "colab_type": "code",
        "colab": {}
      },
      "source": [
        "# Ahora nos traemos lo necesario para cloud storage\n",
        "from googleapiclient.discovery import build\n",
        "gcs_service = build('storage', 'v1')"
      ],
      "execution_count": 0,
      "outputs": []
    },
    {
      "cell_type": "code",
      "metadata": {
        "id": "TZ0dSIShiJ8U",
        "colab_type": "code",
        "colab": {}
      },
      "source": [
        "# Ahora necesitas el nombre de tu segmento, para ello crea o busca uno aqui https://console.cloud.google.com/storage/browser\n",
        "bucket_name = 'enkhara'\n",
        "\n",
        "# Tambien puedes definir el nombre del fichero\n",
        "file_name = 'parques.csv'"
      ],
      "execution_count": 0,
      "outputs": []
    },
    {
      "cell_type": "code",
      "metadata": {
        "id": "9IFyxX3jijcz",
        "colab_type": "code",
        "colab": {}
      },
      "source": [
        "from google.cloud import storage\n",
        "storage_client = storage.Client(project_id)\n",
        "# Create a bucket object for our bucket\n",
        "bucket = storage_client.get_bucket(bucket_name)\n",
        "# Create a blob object from the filepath\n",
        "blob = bucket.blob('csv/parques.csv')\n",
        "\n",
        "blob.upload_from_filename('/content/drive/My Drive/webcrawling/data.csv')\n",
        "\n",
        "# # Ahora cogemos el fichero del resultado del scrapping y lo subimos al bucket\n",
        "# from googleapiclient.http import MediaFileUpload\n",
        "\n",
        "# media = MediaFileUpload('/content/drive/My Drive/webcrawling/data.csv', \n",
        "#                         mimetype='text/plain',\n",
        "#                         resumable=True)\n",
        "\n",
        "# request = gcs_service.objects().insert(bucket=bucket_name, \n",
        "#                                        name=file_name,\n",
        "#                                        media_body=media)\n",
        "\n",
        "# response = None\n",
        "# while response is None:\n",
        "#   # _ is a placeholder for a progress object that we ignore.\n",
        "#   # (Our file is small, so we skip reporting progress.)\n",
        "#   _, response = request.next_chunk()\n",
        "\n",
        "# print('Upload completo')"
      ],
      "execution_count": 0,
      "outputs": []
    },
    {
      "cell_type": "markdown",
      "metadata": {
        "id": "2zCL1SQdlGfC",
        "colab_type": "text"
      },
      "source": [
        "### Cuando la subida haya finalizado, los datos aparecerán en el explorador de datos almacenados de la consola de Cloud de tu proyecto:\n",
        "\n",
        "\n"
      ]
    },
    {
      "cell_type": "code",
      "metadata": {
        "cellView": "both",
        "colab_type": "code",
        "id": "Lvz1BspfpvTl",
        "outputId": "9994bba3-77ee-476d-fed1-7fc7190873d1",
        "colab": {
          "base_uri": "https://localhost:8080/",
          "height": 35
        }
      },
      "source": [
        "print('https://console.cloud.google.com/storage/browser?project=' + project_id)"
      ],
      "execution_count": 23,
      "outputs": [
        {
          "output_type": "stream",
          "text": [
            "https://console.cloud.google.com/storage/browser?project=logical-lock-265215\n"
          ],
          "name": "stdout"
        }
      ]
    }
  ]
}