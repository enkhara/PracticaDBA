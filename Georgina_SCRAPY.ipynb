{
  "nbformat": 4,
  "nbformat_minor": 0,
  "metadata": {
    "colab": {
      "name": "Georgina SCRAPY",
      "provenance": [],
      "collapsed_sections": [],
      "include_colab_link": true
    },
    "kernelspec": {
      "name": "python3",
      "display_name": "Python 3"
    }
  },
  "cells": [
    {
      "cell_type": "markdown",
      "metadata": {
        "id": "view-in-github",
        "colab_type": "text"
      },
      "source": [
        "<a href=\"https://colab.research.google.com/github/enkhara/PracticaDBA/blob/master/Georgina_SCRAPY.ipynb\" target=\"_parent\"><img src=\"https://colab.research.google.com/assets/colab-badge.svg\" alt=\"Open In Colab\"/></a>"
      ]
    },
    {
      "cell_type": "markdown",
      "metadata": {
        "id": "173c-bcUjcE4",
        "colab_type": "text"
      },
      "source": [
        "## NOTA: Crea una carpeta en tu drive llamada webcrawling para que te funcione la subida a drive sin modificar nombres de ficheros/carpetas"
      ]
    },
    {
      "cell_type": "markdown",
      "metadata": {
        "id": "Fsnh0LjlYg3g",
        "colab_type": "text"
      },
      "source": [
        "## Instalar scrapy"
      ]
    },
    {
      "cell_type": "code",
      "metadata": {
        "id": "K7iWVmA7ZwjU",
        "colab_type": "code",
        "colab": {}
      },
      "source": [
        "!pip install scrapy"
      ],
      "execution_count": 0,
      "outputs": []
    },
    {
      "cell_type": "markdown",
      "metadata": {
        "id": "fuKDX55fm6MY",
        "colab_type": "text"
      },
      "source": [
        "## Linkear Google Drive"
      ]
    },
    {
      "cell_type": "code",
      "metadata": {
        "id": "9-dq0KEjm5I4",
        "colab_type": "code",
        "colab": {}
      },
      "source": [
        "from google.colab import drive\n",
        "drive.mount('/content/drive')"
      ],
      "execution_count": 0,
      "outputs": []
    },
    {
      "cell_type": "markdown",
      "metadata": {
        "id": "6ljMmopXYlLr",
        "colab_type": "text"
      },
      "source": [
        "## Montar Spider Class"
      ]
    },
    {
      "cell_type": "code",
      "metadata": {
        "id": "xZXoTYPtHO6a",
        "colab_type": "code",
        "colab": {}
      },
      "source": [
        "import scrapy\n",
        "import json\n",
        "\n",
        "class BlogSpider(scrapy.Spider):\n",
        "    name = 'blogspider'\n",
        "    # Podeis cambiar la url inicial por otra u otras paginas\n",
        "    start_urls = ['https://www.barcelona.cat/ca/que-pots-fer-a-bcn/parcs-i-jardins/tots-els-parcs']\n",
        "    \n",
        "    # con esto limito no hacer mas de 10 ejecuciones \n",
        "    COUNT_MAX = 100\n",
        "    count = 0\n",
        "\n",
        "    def parse(self, response):\n",
        "        # Aqui scrapeamos los datos y los imprimimos a un fichero\n",
        "        for park in response.css('div#llistat-resultats div.box'):\n",
        "            park_name = park.css('h3 a ::text').extract_first().strip()\n",
        "            park_description = park.css('p.intro ::text').extract_first()\n",
        "            park_address = park.css('div.dades p strong ::text').extract_first()\n",
        "              \n",
        "            # Print a un fichero\n",
        "            print(f\"{park_name};{park_description};{park_address}\")#, file=filep)\n",
        "\n",
        "        # Aqui hacemos crawling (con el follow)\n",
        "        for next_page in response.css('div#mes-activitats a'):\n",
        "            self.count = self.count + 1\n",
        "            if (self.count < self.COUNT_MAX):\n",
        "                yield response.follow(next_page, self.parse)\n"
      ],
      "execution_count": 0,
      "outputs": []
    },
    {
      "cell_type": "markdown",
      "metadata": {
        "id": "Hq4352tpYyta",
        "colab_type": "text"
      },
      "source": [
        "## Ejecutar el Crawler + Scraper"
      ]
    },
    {
      "cell_type": "code",
      "metadata": {
        "id": "IriV_cmzYu3r",
        "colab_type": "code",
        "colab": {}
      },
      "source": [
        "# Podeis cambiar la extension y el nombre del fichero data.txt\n",
        "filep = open('/content/drive/My Drive/webcrawling/data.csv', 'w')\n",
        "\n",
        "from scrapy.crawler import CrawlerProcess\n",
        "\n",
        "process = CrawlerProcess({\n",
        "    'USER_AGENT': 'Mozilla/4.0 (compatible; MSIE 7.0; Windows NT 5.1)'\n",
        "})\n",
        "\n",
        "process.crawl(BlogSpider)\n",
        "process.start()\n",
        "filep.close()"
      ],
      "execution_count": 0,
      "outputs": []
    },
    {
      "cell_type": "markdown",
      "metadata": {
        "id": "-ap-54yCYp3j",
        "colab_type": "text"
      },
      "source": [
        "## Descargar resultados"
      ]
    },
    {
      "cell_type": "code",
      "metadata": {
        "id": "zqyCtD32KMFY",
        "colab_type": "code",
        "colab": {}
      },
      "source": [
        "from google.colab import files\n",
        "files.download('/content/drive/My Drive/webcrawling/data.csv')"
      ],
      "execution_count": 0,
      "outputs": []
    },
    {
      "cell_type": "markdown",
      "metadata": {
        "id": "uEWA_LAwiAer",
        "colab_type": "text"
      },
      "source": [
        "## Enviar resultados a Google Cloud Storage"
      ]
    },
    {
      "cell_type": "code",
      "metadata": {
        "id": "WPSCbWuhiFwl",
        "colab_type": "code",
        "colab": {}
      },
      "source": [
        "# Necesitas saber el id de tu proyecto en la consola cloud de google (esta arriba a la izquierda)\n",
        "project_id = 'logical-lock-265215'"
      ],
      "execution_count": 0,
      "outputs": []
    },
    {
      "cell_type": "code",
      "metadata": {
        "id": "8_UYtwtFhgfY",
        "colab_type": "code",
        "colab": {}
      },
      "source": [
        "# Importa las librerias necesarias y autenticas con google cloud\n",
        "project_id = 'logical-lock-265215'\n",
        "\n",
        "from google.colab import auth\n",
        "auth.authenticate_user()"
      ],
      "execution_count": 0,
      "outputs": []
    },
    {
      "cell_type": "code",
      "metadata": {
        "id": "rE-t3f2Th1n_",
        "colab_type": "code",
        "colab": {}
      },
      "source": [
        "# Ahora nos traemos lo necesario para cloud storage\n",
        "from googleapiclient.discovery import build\n",
        "gcs_service = build('storage', 'v1')"
      ],
      "execution_count": 0,
      "outputs": []
    },
    {
      "cell_type": "code",
      "metadata": {
        "id": "TZ0dSIShiJ8U",
        "colab_type": "code",
        "colab": {}
      },
      "source": [
        "# Ahora necesitas el nombre de tu segmento, para ello crea o busca uno aqui https://console.cloud.google.com/storage/browser\n",
        "bucket_name = 'enkhara'\n",
        "\n",
        "# Tambien puedes definir el nombre del fichero\n",
        "file_name = 'parques.csv'"
      ],
      "execution_count": 0,
      "outputs": []
    },
    {
      "cell_type": "code",
      "metadata": {
        "id": "9IFyxX3jijcz",
        "colab_type": "code",
        "colab": {}
      },
      "source": [
        "from google.cloud import storage\n",
        "storage_client = storage.Client(project_id)\n",
        "# Create a bucket object for our bucket\n",
        "bucket = storage_client.get_bucket(bucket_name)\n",
        "# Create a blob object from the filepath\n",
        "blob = bucket.blob('csv/parques.csv')\n",
        "\n",
        "blob.upload_from_filename('/content/drive/My Drive/webcrawling/data.csv')\n",
        "\n",
        "# # Ahora cogemos el fichero del resultado del scrapping y lo subimos al bucket\n",
        "# from googleapiclient.http import MediaFileUpload\n",
        "\n",
        "# media = MediaFileUpload('/content/drive/My Drive/webcrawling/data.csv', \n",
        "#                         mimetype='text/plain',\n",
        "#                         resumable=True)\n",
        "\n",
        "# request = gcs_service.objects().insert(bucket=bucket_name, \n",
        "#                                        name=file_name,\n",
        "#                                        media_body=media)\n",
        "\n",
        "# response = None\n",
        "# while response is None:\n",
        "#   # _ is a placeholder for a progress object that we ignore.\n",
        "#   # (Our file is small, so we skip reporting progress.)\n",
        "#   _, response = request.next_chunk()\n",
        "\n",
        "# print('Upload completo')"
      ],
      "execution_count": 0,
      "outputs": []
    },
    {
      "cell_type": "markdown",
      "metadata": {
        "id": "2zCL1SQdlGfC",
        "colab_type": "text"
      },
      "source": [
        "### Cuando la subida haya finalizado, los datos aparecerán en el explorador de datos almacenados de la consola de Cloud de tu proyecto:\n",
        "\n",
        "\n"
      ]
    },
    {
      "cell_type": "code",
      "metadata": {
        "cellView": "both",
        "colab_type": "code",
        "id": "Lvz1BspfpvTl",
        "colab": {}
      },
      "source": [
        "print('https://console.cloud.google.com/storage/browser?project=' + project_id)"
      ],
      "execution_count": 0,
      "outputs": []
    }
  ]
}